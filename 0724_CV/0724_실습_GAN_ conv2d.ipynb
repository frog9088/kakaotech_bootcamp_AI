{
  "nbformat": 4,
  "nbformat_minor": 0,
  "metadata": {
    "colab": {
      "provenance": [],
      "gpuType": "T4"
    },
    "kernelspec": {
      "name": "python3",
      "display_name": "Python 3"
    },
    "language_info": {
      "name": "python"
    },
    "accelerator": "GPU"
  },
  "cells": [
    {
      "cell_type": "code",
      "execution_count": 1,
      "metadata": {
        "colab": {
          "base_uri": "https://localhost:8080/"
        },
        "collapsed": true,
        "id": "QmGHGK23fz3O",
        "outputId": "f988a986-d63d-4521-b33c-4d33e50872e7"
      },
      "outputs": [
        {
          "output_type": "stream",
          "name": "stdout",
          "text": [
            "Downloading http://yann.lecun.com/exdb/mnist/train-images-idx3-ubyte.gz\n",
            "Failed to download (trying next):\n",
            "HTTP Error 403: Forbidden\n",
            "\n",
            "Downloading https://ossci-datasets.s3.amazonaws.com/mnist/train-images-idx3-ubyte.gz\n",
            "Downloading https://ossci-datasets.s3.amazonaws.com/mnist/train-images-idx3-ubyte.gz to ./data/MNIST/raw/train-images-idx3-ubyte.gz\n"
          ]
        },
        {
          "output_type": "stream",
          "name": "stderr",
          "text": [
            "100%|██████████| 9912422/9912422 [00:10<00:00, 973826.69it/s] \n"
          ]
        },
        {
          "output_type": "stream",
          "name": "stdout",
          "text": [
            "Extracting ./data/MNIST/raw/train-images-idx3-ubyte.gz to ./data/MNIST/raw\n",
            "\n",
            "Downloading http://yann.lecun.com/exdb/mnist/train-labels-idx1-ubyte.gz\n",
            "Failed to download (trying next):\n",
            "HTTP Error 403: Forbidden\n",
            "\n",
            "Downloading https://ossci-datasets.s3.amazonaws.com/mnist/train-labels-idx1-ubyte.gz\n",
            "Downloading https://ossci-datasets.s3.amazonaws.com/mnist/train-labels-idx1-ubyte.gz to ./data/MNIST/raw/train-labels-idx1-ubyte.gz\n"
          ]
        },
        {
          "output_type": "stream",
          "name": "stderr",
          "text": [
            "100%|██████████| 28881/28881 [00:00<00:00, 57823.18it/s]\n"
          ]
        },
        {
          "output_type": "stream",
          "name": "stdout",
          "text": [
            "Extracting ./data/MNIST/raw/train-labels-idx1-ubyte.gz to ./data/MNIST/raw\n",
            "\n",
            "Downloading http://yann.lecun.com/exdb/mnist/t10k-images-idx3-ubyte.gz\n",
            "Failed to download (trying next):\n",
            "HTTP Error 403: Forbidden\n",
            "\n",
            "Downloading https://ossci-datasets.s3.amazonaws.com/mnist/t10k-images-idx3-ubyte.gz\n",
            "Downloading https://ossci-datasets.s3.amazonaws.com/mnist/t10k-images-idx3-ubyte.gz to ./data/MNIST/raw/t10k-images-idx3-ubyte.gz\n"
          ]
        },
        {
          "output_type": "stream",
          "name": "stderr",
          "text": [
            "100%|██████████| 1648877/1648877 [00:01<00:00, 1266013.77it/s]\n"
          ]
        },
        {
          "output_type": "stream",
          "name": "stdout",
          "text": [
            "Extracting ./data/MNIST/raw/t10k-images-idx3-ubyte.gz to ./data/MNIST/raw\n",
            "\n",
            "Downloading http://yann.lecun.com/exdb/mnist/t10k-labels-idx1-ubyte.gz\n",
            "Failed to download (trying next):\n",
            "HTTP Error 403: Forbidden\n",
            "\n",
            "Downloading https://ossci-datasets.s3.amazonaws.com/mnist/t10k-labels-idx1-ubyte.gz\n",
            "Downloading https://ossci-datasets.s3.amazonaws.com/mnist/t10k-labels-idx1-ubyte.gz to ./data/MNIST/raw/t10k-labels-idx1-ubyte.gz\n"
          ]
        },
        {
          "output_type": "stream",
          "name": "stderr",
          "text": [
            "100%|██████████| 4542/4542 [00:00<00:00, 3764926.63it/s]"
          ]
        },
        {
          "output_type": "stream",
          "name": "stdout",
          "text": [
            "Extracting ./data/MNIST/raw/t10k-labels-idx1-ubyte.gz to ./data/MNIST/raw\n",
            "\n"
          ]
        },
        {
          "output_type": "stream",
          "name": "stderr",
          "text": [
            "\n"
          ]
        }
      ],
      "source": [
        "import torch\n",
        "import torch.nn as nn\n",
        "import torch.optim as optim\n",
        "from torchvision import datasets, transforms\n",
        "import matplotlib.pyplot as plt\n",
        "import torchvision\n",
        "from torch.utils.data import DataLoader\n",
        "from torch.utils.tensorboard import SummaryWriter\n",
        "\n",
        "# 데이터셋 로드 및 전처리\n",
        "transform = transforms.Compose([\n",
        "    transforms.ToTensor(),\n",
        "    transforms.Normalize((0.5,), (0.5,))\n",
        "])\n",
        "\n",
        "train_dataset = datasets.MNIST(root='./data', train=True, download=True, transform=transform)\n",
        "train_loader = torch.utils.data.DataLoader(dataset=train_dataset, batch_size=64, shuffle=True)\n",
        "\n",
        "test_dataset = datasets.MNIST(root='./data', train=False, download=True, transform=transform)\n",
        "test_loader = torch.utils.data.DataLoader(dataset=test_dataset, batch_size=64, shuffle=False)\n"
      ]
    },
    {
      "cell_type": "code",
      "source": [
        "for images, labels in train_loader:\n",
        "    print(images.shape)\n",
        "    print(labels.shape)\n",
        "    break"
      ],
      "metadata": {
        "colab": {
          "base_uri": "https://localhost:8080/"
        },
        "id": "4h2sbZqUBLvf",
        "outputId": "6ce0c5e4-40c6-4728-8522-ad530bdedece"
      },
      "execution_count": 2,
      "outputs": [
        {
          "output_type": "stream",
          "name": "stdout",
          "text": [
            "torch.Size([64, 1, 28, 28])\n",
            "torch.Size([64])\n"
          ]
        }
      ]
    },
    {
      "cell_type": "code",
      "source": [
        "for images, labels in train_loader:\n",
        "    print(images[0])\n",
        "    break"
      ],
      "metadata": {
        "colab": {
          "base_uri": "https://localhost:8080/"
        },
        "id": "VURNfDGbBTNy",
        "outputId": "d16b1b51-b5f5-4bcb-daf2-97f2877c5108"
      },
      "execution_count": 3,
      "outputs": [
        {
          "output_type": "stream",
          "name": "stdout",
          "text": [
            "tensor([[[-1.0000, -1.0000, -1.0000, -1.0000, -1.0000, -1.0000, -1.0000,\n",
            "          -1.0000, -1.0000, -1.0000, -1.0000, -1.0000, -1.0000, -1.0000,\n",
            "          -1.0000, -1.0000, -1.0000, -1.0000, -1.0000, -1.0000, -1.0000,\n",
            "          -1.0000, -1.0000, -1.0000, -1.0000, -1.0000, -1.0000, -1.0000],\n",
            "         [-1.0000, -1.0000, -1.0000, -1.0000, -1.0000, -1.0000, -1.0000,\n",
            "          -1.0000, -1.0000, -1.0000, -1.0000, -1.0000, -1.0000, -1.0000,\n",
            "          -1.0000, -1.0000, -1.0000, -1.0000, -1.0000, -1.0000, -1.0000,\n",
            "          -1.0000, -1.0000, -1.0000, -1.0000, -1.0000, -1.0000, -1.0000],\n",
            "         [-1.0000, -1.0000, -1.0000, -1.0000, -1.0000, -1.0000, -1.0000,\n",
            "          -1.0000, -1.0000, -1.0000, -1.0000, -1.0000, -1.0000, -1.0000,\n",
            "          -1.0000, -1.0000, -1.0000, -1.0000, -1.0000, -1.0000, -1.0000,\n",
            "          -1.0000, -1.0000, -1.0000, -1.0000, -1.0000, -1.0000, -1.0000],\n",
            "         [-1.0000, -1.0000, -1.0000, -1.0000, -1.0000, -1.0000, -1.0000,\n",
            "          -1.0000, -1.0000, -1.0000, -1.0000, -1.0000, -1.0000, -1.0000,\n",
            "          -1.0000, -1.0000, -1.0000, -1.0000, -1.0000, -1.0000, -1.0000,\n",
            "          -1.0000, -1.0000, -1.0000, -1.0000, -1.0000, -1.0000, -1.0000],\n",
            "         [-1.0000, -1.0000, -1.0000, -1.0000, -1.0000, -1.0000, -1.0000,\n",
            "          -1.0000, -1.0000, -1.0000, -1.0000, -1.0000, -1.0000, -1.0000,\n",
            "          -1.0000, -1.0000, -1.0000, -1.0000, -1.0000, -1.0000, -1.0000,\n",
            "          -1.0000, -1.0000, -1.0000, -1.0000, -1.0000, -1.0000, -1.0000],\n",
            "         [-1.0000, -1.0000, -1.0000, -1.0000, -1.0000, -1.0000, -1.0000,\n",
            "          -1.0000, -1.0000, -1.0000, -1.0000, -1.0000, -1.0000, -1.0000,\n",
            "          -1.0000, -1.0000, -1.0000, -1.0000, -1.0000, -1.0000, -1.0000,\n",
            "          -1.0000, -1.0000, -1.0000, -1.0000, -1.0000, -1.0000, -1.0000],\n",
            "         [-1.0000, -1.0000, -1.0000, -1.0000, -1.0000, -1.0000, -1.0000,\n",
            "          -1.0000, -1.0000, -1.0000, -1.0000, -1.0000, -1.0000, -1.0000,\n",
            "          -1.0000, -1.0000, -1.0000, -1.0000, -1.0000, -1.0000, -1.0000,\n",
            "          -1.0000, -0.8353,  0.6549,  0.9922, -0.2471, -1.0000, -1.0000],\n",
            "         [-1.0000, -1.0000, -1.0000, -1.0000, -1.0000, -1.0000, -1.0000,\n",
            "          -1.0000, -1.0000, -1.0000, -1.0000, -1.0000, -1.0000, -1.0000,\n",
            "          -1.0000, -1.0000, -1.0000, -0.6314, -0.4745, -0.4745, -0.8196,\n",
            "          -0.8118,  0.2235,  0.9843,  0.9843,  0.1216, -1.0000, -1.0000],\n",
            "         [-1.0000, -1.0000, -1.0000, -1.0000, -1.0000, -1.0000, -1.0000,\n",
            "          -1.0000, -0.3490,  0.6157,  0.6471,  0.6471, -0.1451, -0.2157,\n",
            "          -0.2157,  0.5373,  0.6549,  0.8824,  0.9843,  0.9843,  0.7647,\n",
            "           0.7647,  0.9843,  0.9843,  0.9843, -0.2157, -1.0000, -1.0000],\n",
            "         [-1.0000, -1.0000, -1.0000, -1.0000, -1.0000, -1.0000, -0.7804,\n",
            "           0.6471,  0.9765,  0.9843,  0.9843,  0.9843,  0.9843,  0.9843,\n",
            "           0.9843,  0.9843,  1.0000,  0.9843,  0.9843,  0.9843,  0.9843,\n",
            "           0.9843,  0.9843,  0.9843,  0.5922, -0.8745, -1.0000, -1.0000],\n",
            "         [-1.0000, -1.0000, -1.0000, -1.0000, -1.0000, -1.0000,  0.1294,\n",
            "           0.9843,  0.9843,  0.9843,  0.9843,  0.6471,  0.7647,  0.9843,\n",
            "           0.9843,  0.6078,  0.5608,  0.5529,  0.9137,  0.9843,  0.9843,\n",
            "           0.9843,  0.9843,  0.9843, -0.1059, -1.0000, -1.0000, -1.0000],\n",
            "         [-1.0000, -1.0000, -1.0000, -1.0000, -1.0000, -1.0000, -0.1686,\n",
            "           0.9843,  0.9843,  0.8510, -0.5686, -0.9059, -0.7882, -0.5686,\n",
            "          -0.5686, -0.9451, -0.9059, -0.0745,  0.9137,  0.9843,  0.9843,\n",
            "           0.7412,  0.2941, -0.2314, -0.8902, -1.0000, -1.0000, -1.0000],\n",
            "         [-1.0000, -1.0000, -1.0000, -1.0000, -1.0000, -1.0000, -0.8588,\n",
            "           0.6627,  0.9843,  0.8980, -0.2314, -0.9765, -1.0000, -1.0000,\n",
            "          -1.0000, -0.9216,  0.4745,  0.9843,  0.9843,  0.9765,  0.3333,\n",
            "          -0.7020, -1.0000, -1.0000, -1.0000, -1.0000, -1.0000, -1.0000],\n",
            "         [-1.0000, -1.0000, -1.0000, -1.0000, -1.0000, -1.0000, -1.0000,\n",
            "          -0.7961,  0.7804,  0.9843,  0.9843, -0.4196, -0.9843, -0.4980,\n",
            "           0.2157,  0.8902,  0.9922,  0.9843,  0.8510, -0.2549, -1.0000,\n",
            "          -1.0000, -1.0000, -1.0000, -1.0000, -1.0000, -1.0000, -1.0000],\n",
            "         [-1.0000, -1.0000, -1.0000, -1.0000, -1.0000, -1.0000, -1.0000,\n",
            "          -1.0000,  0.0039,  0.9843,  0.9843,  0.8118,  0.4980,  0.9843,\n",
            "           0.9843,  0.9843,  0.6471,  0.1529, -0.6863, -1.0000, -1.0000,\n",
            "          -1.0000, -1.0000, -1.0000, -1.0000, -1.0000, -1.0000, -1.0000],\n",
            "         [-1.0000, -1.0000, -1.0000, -1.0000, -1.0000, -1.0000, -1.0000,\n",
            "          -1.0000, -0.8980,  0.5373,  0.9843,  0.9843,  0.9843,  0.9843,\n",
            "           0.9843,  0.6078, -0.8824, -1.0000, -1.0000, -1.0000, -1.0000,\n",
            "          -1.0000, -1.0000, -1.0000, -1.0000, -1.0000, -1.0000, -1.0000],\n",
            "         [-1.0000, -1.0000, -1.0000, -1.0000, -1.0000, -1.0000, -1.0000,\n",
            "          -1.0000, -1.0000, -0.7098,  0.9922,  0.9922,  0.9922,  0.9529,\n",
            "           0.0902, -0.8824, -1.0000, -1.0000, -1.0000, -1.0000, -1.0000,\n",
            "          -1.0000, -1.0000, -1.0000, -1.0000, -1.0000, -1.0000, -1.0000],\n",
            "         [-1.0000, -1.0000, -1.0000, -1.0000, -1.0000, -1.0000, -1.0000,\n",
            "          -1.0000, -0.7882,  0.6706,  0.9843,  0.9843,  0.9843,  0.6392,\n",
            "          -1.0000, -1.0000, -1.0000, -1.0000, -1.0000, -1.0000, -1.0000,\n",
            "          -1.0000, -1.0000, -1.0000, -1.0000, -1.0000, -1.0000, -1.0000],\n",
            "         [-1.0000, -1.0000, -1.0000, -1.0000, -1.0000, -1.0000, -1.0000,\n",
            "          -1.0000, -0.2157,  0.9843,  0.9843,  0.9843,  0.9843,  0.9294,\n",
            "          -0.2314, -1.0000, -1.0000, -1.0000, -1.0000, -1.0000, -1.0000,\n",
            "          -1.0000, -1.0000, -1.0000, -1.0000, -1.0000, -1.0000, -1.0000],\n",
            "         [-1.0000, -1.0000, -1.0000, -1.0000, -1.0000, -1.0000, -1.0000,\n",
            "          -1.0000,  0.6157,  0.9843,  0.9529,  0.4353,  0.8980,  0.9843,\n",
            "           0.9608, -0.6784, -1.0000, -1.0000, -1.0000, -1.0000, -1.0000,\n",
            "          -1.0000, -1.0000, -1.0000, -1.0000, -1.0000, -1.0000, -1.0000],\n",
            "         [-1.0000, -1.0000, -1.0000, -1.0000, -1.0000, -1.0000, -1.0000,\n",
            "          -1.0000,  0.6471,  0.9843,  0.5529, -1.0000, -0.0431,  0.9843,\n",
            "           0.9843,  0.6863, -1.0000, -1.0000, -1.0000, -1.0000, -1.0000,\n",
            "          -1.0000, -1.0000, -1.0000, -1.0000, -1.0000, -1.0000, -1.0000],\n",
            "         [-1.0000, -1.0000, -1.0000, -1.0000, -1.0000, -1.0000, -1.0000,\n",
            "          -1.0000,  0.6471,  0.9843,  0.5529, -1.0000, -0.7255,  0.9843,\n",
            "           0.9843,  0.9843, -1.0000, -1.0000, -1.0000, -1.0000, -1.0000,\n",
            "          -1.0000, -1.0000, -1.0000, -1.0000, -1.0000, -1.0000, -1.0000],\n",
            "         [-1.0000, -1.0000, -1.0000, -1.0000, -1.0000, -1.0000, -1.0000,\n",
            "          -1.0000,  0.6471,  0.9843,  0.5686, -0.9765, -0.4902,  0.9843,\n",
            "           0.9843,  0.9843, -1.0000, -1.0000, -1.0000, -1.0000, -1.0000,\n",
            "          -1.0000, -1.0000, -1.0000, -1.0000, -1.0000, -1.0000, -1.0000],\n",
            "         [-1.0000, -1.0000, -1.0000, -1.0000, -1.0000, -1.0000, -1.0000,\n",
            "          -1.0000,  0.6471,  0.9843,  0.9843,  0.3804,  0.5843,  0.9843,\n",
            "           0.9843,  0.8353, -1.0000, -1.0000, -1.0000, -1.0000, -1.0000,\n",
            "          -1.0000, -1.0000, -1.0000, -1.0000, -1.0000, -1.0000, -1.0000],\n",
            "         [-1.0000, -1.0000, -1.0000, -1.0000, -1.0000, -1.0000, -1.0000,\n",
            "          -1.0000,  0.0039,  0.9843,  0.9843,  0.9843,  0.9843,  0.9843,\n",
            "           0.9843, -0.5216, -1.0000, -1.0000, -1.0000, -1.0000, -1.0000,\n",
            "          -1.0000, -1.0000, -1.0000, -1.0000, -1.0000, -1.0000, -1.0000],\n",
            "         [-1.0000, -1.0000, -1.0000, -1.0000, -1.0000, -1.0000, -1.0000,\n",
            "          -1.0000, -0.5529,  0.1922,  0.9843,  0.9843,  0.9843,  0.8353,\n",
            "          -0.1373, -0.9608, -1.0000, -1.0000, -1.0000, -1.0000, -1.0000,\n",
            "          -1.0000, -1.0000, -1.0000, -1.0000, -1.0000, -1.0000, -1.0000],\n",
            "         [-1.0000, -1.0000, -1.0000, -1.0000, -1.0000, -1.0000, -1.0000,\n",
            "          -1.0000, -1.0000, -1.0000, -1.0000, -1.0000, -1.0000, -1.0000,\n",
            "          -1.0000, -1.0000, -1.0000, -1.0000, -1.0000, -1.0000, -1.0000,\n",
            "          -1.0000, -1.0000, -1.0000, -1.0000, -1.0000, -1.0000, -1.0000],\n",
            "         [-1.0000, -1.0000, -1.0000, -1.0000, -1.0000, -1.0000, -1.0000,\n",
            "          -1.0000, -1.0000, -1.0000, -1.0000, -1.0000, -1.0000, -1.0000,\n",
            "          -1.0000, -1.0000, -1.0000, -1.0000, -1.0000, -1.0000, -1.0000,\n",
            "          -1.0000, -1.0000, -1.0000, -1.0000, -1.0000, -1.0000, -1.0000]]])\n"
          ]
        }
      ]
    },
    {
      "cell_type": "code",
      "source": [
        "device = torch.device(\"cuda\" if torch.cuda.is_available() else \"cpu\")"
      ],
      "metadata": {
        "id": "Usebkd7xgAdb"
      },
      "execution_count": 4,
      "outputs": []
    },
    {
      "cell_type": "code",
      "source": [
        "d_noise = 100\n",
        "d_hidden_1 = 256\n",
        "d_hidden_2 = 256\n",
        "image_dim = 28*28\n",
        "batch_size = 64\n",
        "\n",
        "class Generator(nn.Module):\n",
        "    def __init__(self):\n",
        "        super(Generator, self).__init__()\n",
        "        self.generator = nn.Sequential(\n",
        "            nn.ConvTranspose2d(d_noise, 256, kernel_size=7, stride=1, padding=0),\n",
        "            nn.ReLU(),\n",
        "            nn.ConvTranspose2d(256, 128, kernel_size=4, stride=2, padding=1),\n",
        "            nn.ReLU(),\n",
        "            nn.ConvTranspose2d(128, 1, kernel_size=4, stride=2, padding=1),\n",
        "            nn.Tanh()\n",
        "        )\n",
        "\n",
        "    def forward(self, x):\n",
        "        x = x.view(x.size(0), d_noise, 1, 1)  # 입력 잡음 벡터를 (batch_size, d_noise, 1, 1) 형태로 변환\n",
        "        x = self.generator(x)\n",
        "        return x\n",
        "\n",
        "    def forward(self, x):\n",
        "        x = self.generator(x)\n",
        "        return x"
      ],
      "metadata": {
        "id": "_Pf91_osf4Tf"
      },
      "execution_count": 5,
      "outputs": []
    },
    {
      "cell_type": "code",
      "source": [
        "class Discriminator(nn.Module):\n",
        "    def __init__(self):\n",
        "        super(Discriminator, self).__init__()\n",
        "\n",
        "        self.discriminator = nn.Sequential(\n",
        "            nn.Linear(28*28, d_hidden_1),\n",
        "            nn.LeakyReLU(),\n",
        "            nn.Dropout(0.1),\n",
        "            nn.Linear(d_hidden_1, d_hidden_2),\n",
        "            nn.LeakyReLU(),\n",
        "            nn.Dropout(0.1),\n",
        "            nn.Linear(d_hidden_2, 1),\n",
        "            nn.Sigmoid()\n",
        "        ).to(device)\n",
        "\n",
        "    def forward(self, x):\n",
        "        x = self.discriminator(x)\n",
        "        return x"
      ],
      "metadata": {
        "id": "gJPlmkEI71BW"
      },
      "execution_count": 6,
      "outputs": []
    },
    {
      "cell_type": "code",
      "source": [
        "disc = Discriminator().to(device)\n",
        "gen = Generator().to(device)\n",
        "\n",
        "fixed_noise = torch.randn(batch_size, d_noise).view(batch_size, d_noise, 1, 1).to(device)\n",
        "\n",
        "lr = 3e-4\n",
        "num_epochs = 50\n",
        "\n",
        "opt_disc = optim.Adam(disc.parameters(), lr=lr)\n",
        "opt_gen = optim.Adam(gen.parameters(), lr=lr)\n",
        "criterion = nn.BCELoss()\n",
        "\n",
        "writer_fake = SummaryWriter(f\"runs/GAN_MNIST/fake\")\n",
        "writer_real= SummaryWriter(f\"runs/GAN_MNIST/real\")\n",
        "\n",
        "step = 0"
      ],
      "metadata": {
        "id": "OrvWzDPU-a98"
      },
      "execution_count": 12,
      "outputs": []
    },
    {
      "cell_type": "code",
      "source": [
        "fake_list = []\n",
        "real_list = []\n",
        "\n",
        "for epoch in range(num_epochs):\n",
        "    for batch_idx, (real, _) in enumerate(train_loader):\n",
        "        real = real.view(-1, 784).to(device)\n",
        "        batch_size = real.shape[0]\n",
        "\n",
        "        ### Train Discriminator: max log(D(x)) + log(1 - D(G(z)))\n",
        "        noise = torch.randn(batch_size, d_noise).view(batch_size, d_noise, 1, 1).to(device)\n",
        "        fake = gen(noise)\n",
        "        disc_real = disc(real).view(-1)\n",
        "        lossD_real = criterion(disc_real, torch.ones_like(disc_real))\n",
        "        disc_fake = disc(fake.view(-1, 784)).view(-1)\n",
        "        lossD_fake = criterion(disc_fake, torch.zeros_like(disc_fake))\n",
        "        lossD = (lossD_real + lossD_fake) / 2\n",
        "        disc.zero_grad()\n",
        "        lossD.backward(retain_graph=True)\n",
        "        opt_disc.step()\n",
        "\n",
        "        ### Train Generator: min log(1 - D(G(z))) <-> max log(D(G(z))\n",
        "        # where the second option of maximizing doesn't suffer from\n",
        "        # saturating gradients\n",
        "        output = disc(fake.view(-1, 784)).view(-1)\n",
        "        lossG = criterion(output, torch.ones_like(output))\n",
        "        gen.zero_grad()\n",
        "        lossG.backward()\n",
        "        opt_gen.step()\n",
        "\n",
        "        if batch_idx == 0:\n",
        "            print(\n",
        "                f\"Epoch [{epoch}/{num_epochs}] Loss D: {lossD:.4f}, loss G: {lossG:.4f}\"\n",
        "            )\n",
        "\n",
        "            with torch.no_grad():\n",
        "                fake = gen(fixed_noise).reshape(-1, 1, 28, 28)\n",
        "                data = real.reshape(-1, 1, 28, 28)\n",
        "\n",
        "                fake_list.append(fake)\n",
        "                real_list.append(data)\n",
        "                step += 1"
      ],
      "metadata": {
        "id": "pnYKAJfQDyJi",
        "outputId": "6d64a561-cc8f-4dfd-f882-d38abba1f161",
        "colab": {
          "base_uri": "https://localhost:8080/"
        }
      },
      "execution_count": 13,
      "outputs": [
        {
          "output_type": "stream",
          "name": "stdout",
          "text": [
            "Epoch [0/50] Loss D: 0.7218, loss G: 0.7052\n",
            "Epoch [1/50] Loss D: 0.6322, loss G: 0.9314\n",
            "Epoch [2/50] Loss D: 0.6251, loss G: 0.9769\n",
            "Epoch [3/50] Loss D: 0.5735, loss G: 1.0137\n",
            "Epoch [4/50] Loss D: 0.6645, loss G: 0.7921\n",
            "Epoch [5/50] Loss D: 0.6416, loss G: 0.7984\n",
            "Epoch [6/50] Loss D: 0.6553, loss G: 0.7159\n",
            "Epoch [7/50] Loss D: 0.6116, loss G: 0.9643\n",
            "Epoch [8/50] Loss D: 0.6208, loss G: 0.8218\n",
            "Epoch [9/50] Loss D: 0.6630, loss G: 0.7133\n",
            "Epoch [10/50] Loss D: 0.6810, loss G: 0.7121\n",
            "Epoch [11/50] Loss D: 0.6692, loss G: 0.7387\n",
            "Epoch [12/50] Loss D: 0.6394, loss G: 0.7014\n",
            "Epoch [13/50] Loss D: 0.7154, loss G: 0.6390\n",
            "Epoch [14/50] Loss D: 0.6842, loss G: 0.6811\n",
            "Epoch [15/50] Loss D: 0.5978, loss G: 0.9690\n",
            "Epoch [16/50] Loss D: 0.7135, loss G: 0.7223\n",
            "Epoch [17/50] Loss D: 0.7037, loss G: 0.7627\n",
            "Epoch [18/50] Loss D: 0.6375, loss G: 0.9172\n",
            "Epoch [19/50] Loss D: 0.6840, loss G: 0.6674\n",
            "Epoch [20/50] Loss D: 0.6545, loss G: 0.7367\n",
            "Epoch [21/50] Loss D: 0.7034, loss G: 0.6993\n",
            "Epoch [22/50] Loss D: 0.6657, loss G: 0.7499\n",
            "Epoch [23/50] Loss D: 0.6705, loss G: 0.7837\n",
            "Epoch [24/50] Loss D: 0.6318, loss G: 0.8863\n",
            "Epoch [25/50] Loss D: 0.6933, loss G: 0.7991\n",
            "Epoch [26/50] Loss D: 0.6937, loss G: 0.7370\n",
            "Epoch [27/50] Loss D: 0.6860, loss G: 0.7161\n",
            "Epoch [28/50] Loss D: 0.6850, loss G: 0.8273\n",
            "Epoch [29/50] Loss D: 0.6625, loss G: 0.7561\n",
            "Epoch [30/50] Loss D: 0.6685, loss G: 0.6814\n",
            "Epoch [31/50] Loss D: 0.6752, loss G: 0.7202\n",
            "Epoch [32/50] Loss D: 0.6847, loss G: 0.7957\n",
            "Epoch [33/50] Loss D: 0.6691, loss G: 0.6949\n",
            "Epoch [34/50] Loss D: 0.6612, loss G: 0.7641\n",
            "Epoch [35/50] Loss D: 0.6962, loss G: 0.7501\n",
            "Epoch [36/50] Loss D: 0.6539, loss G: 0.7959\n",
            "Epoch [37/50] Loss D: 0.6760, loss G: 0.7035\n",
            "Epoch [38/50] Loss D: 0.6797, loss G: 0.6699\n",
            "Epoch [39/50] Loss D: 0.6897, loss G: 0.8323\n",
            "Epoch [40/50] Loss D: 0.6739, loss G: 0.7861\n",
            "Epoch [41/50] Loss D: 0.6645, loss G: 0.8020\n",
            "Epoch [42/50] Loss D: 0.6917, loss G: 0.7506\n",
            "Epoch [43/50] Loss D: 0.6428, loss G: 0.7642\n",
            "Epoch [44/50] Loss D: 0.6626, loss G: 0.7577\n",
            "Epoch [45/50] Loss D: 0.6817, loss G: 0.7809\n",
            "Epoch [46/50] Loss D: 0.6775, loss G: 0.7401\n",
            "Epoch [47/50] Loss D: 0.6584, loss G: 0.7153\n",
            "Epoch [48/50] Loss D: 0.6824, loss G: 0.7855\n",
            "Epoch [49/50] Loss D: 0.6459, loss G: 0.7783\n"
          ]
        }
      ]
    },
    {
      "cell_type": "code",
      "source": [
        "# 원본 이미지와 복원된 이미지 시각화\n",
        "fig, axes = plt.subplots(nrows=2, ncols=10, sharex=True, sharey=True, figsize=(20, 4))\n",
        "\n",
        "for images, row in zip([fake_list[-1], real_list[-1]], axes):\n",
        "    for img, ax in zip(images, row):\n",
        "        ax.imshow(img.cpu().numpy().squeeze(), cmap='gray')\n",
        "        ax.get_xaxis().set_visible(False)\n",
        "        ax.get_yaxis().set_visible(False)\n",
        "\n",
        "plt.show()"
      ],
      "metadata": {
        "colab": {
          "base_uri": "https://localhost:8080/",
          "height": 336
        },
        "id": "4FZbjjy3-CiN",
        "outputId": "a11499f0-4a56-44a6-fb18-a68ae87c603f"
      },
      "execution_count": 14,
      "outputs": [
        {
          "output_type": "display_data",
          "data": {
            "text/plain": [
              "<Figure size 2000x400 with 20 Axes>"
            ],
            "image/png": "[encoded data removed]"
          },
          "metadata": {}
        }
      ]
    },
    {
      "cell_type": "code",
      "source": [],
      "metadata": {
        "id": "qBuJCdpn-G2u"
      },
      "execution_count": null,
      "outputs": []
    },
    {
      "cell_type": "code",
      "source": [],
      "metadata": {
        "id": "4sUZaBga-G48"
      },
      "execution_count": null,
      "outputs": []
    },
    {
      "cell_type": "code",
      "source": [],
      "metadata": {
        "id": "l6mDb9HM-G7q"
      },
      "execution_count": null,
      "outputs": []
    },
    {
      "cell_type": "code",
      "source": [
        "!pip install tensorboard"
      ],
      "metadata": {
        "id": "-CEytNGCJcMN"
      },
      "execution_count": null,
      "outputs": []
    },
    {
      "cell_type": "code",
      "source": [
        "!tensorboard --logdir=runs"
      ],
      "metadata": {
        "id": "3D6PGfeVJd6B"
      },
      "execution_count": null,
      "outputs": []
    },
    {
      "cell_type": "code",
      "source": [
        "%load_ext tensorboard\n",
        "%tensorboard --logdir=runs\n"
      ],
      "metadata": {
        "id": "UxNHrHRRJ-d_"
      },
      "execution_count": null,
      "outputs": []
    },
    {
      "cell_type": "code",
      "source": [
        "# 모델 초기화\n",
        "model = Autoencoder().to(device)\n",
        "criterion = nn.MSELoss()\n",
        "optimizer = optim.Adam(model.parameters(), lr=0.001)"
      ],
      "metadata": {
        "id": "6kJhjBeA72Fn"
      },
      "execution_count": null,
      "outputs": []
    },
    {
      "cell_type": "code",
      "source": [
        "print(model)"
      ],
      "metadata": {
        "id": "YLlFliKUhLo9"
      },
      "execution_count": null,
      "outputs": []
    },
    {
      "cell_type": "code",
      "source": [
        "num_epochs = 20\n",
        "\n",
        "for epoch in range(num_epochs):\n",
        "    for data, _ in train_loader:\n",
        "        data = data.view(-1, 28 * 28).to(device)\n",
        "\n",
        "        # 순전파\n",
        "        output = model(data)\n",
        "        loss = criterion(output, data)\n",
        "\n",
        "        # 역전파\n",
        "        optimizer.zero_grad()\n",
        "        loss.backward()\n",
        "        optimizer.step()\n",
        "\n",
        "    print(f'Epoch [{epoch+1}/{num_epochs}], Loss: {loss.item():.4f}')"
      ],
      "metadata": {
        "id": "0u9N3Q8hf5nE"
      },
      "execution_count": null,
      "outputs": []
    },
    {
      "cell_type": "code",
      "source": [
        "# 테스트 데이터셋에서 몇 가지 이미지를 복원하여 시각화\n",
        "model.eval()\n",
        "with torch.no_grad():\n",
        "    for data, _ in test_loader:\n",
        "        data = data.view(-1, 28 * 28).to(device)\n",
        "        output = model(data)\n",
        "        output = output.view(-1, 1, 28, 28).cpu()\n",
        "        break\n",
        "\n",
        "# 원본 이미지와 복원된 이미지 시각화\n",
        "fig, axes = plt.subplots(nrows=2, ncols=10, sharex=True, sharey=True, figsize=(20, 4))\n",
        "\n",
        "for images, row in zip([data.view(-1, 1, 28, 28).cpu(), output], axes):\n",
        "    for img, ax in zip(images, row):\n",
        "        ax.imshow(img.numpy().squeeze(), cmap='gray')\n",
        "        ax.get_xaxis().set_visible(False)\n",
        "        ax.get_yaxis().set_visible(False)\n",
        "\n",
        "plt.show()"
      ],
      "metadata": {
        "id": "ccmjEz2Ff6-t"
      },
      "execution_count": null,
      "outputs": []
    }
  ]
}
