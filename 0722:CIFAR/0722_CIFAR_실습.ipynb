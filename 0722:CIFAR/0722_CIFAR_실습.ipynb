{
  "cells": [
    {
      "cell_type": "markdown",
      "metadata": {
        "id": "rNO3AGvJwdh9"
      },
      "source": [
        "# Data Mining 2024-1 과제 \\#2\n",
        "\n",
        "## 1. 목표 <a id=\"intro\"></a>\n",
        "\n",
        "1. 해당 jupyter notebook 내의 지시사항을 따라 미완성된 코드를 모두 작성하세요.\n",
        "\n",
        "2. PyTorch를 기반으로 주어진 문제를 해결하는 코드를 완성하세요.\n",
        "\n",
        "3. 명시된 Dataset을 활용하여 가장 좋은 성능을 보이는 모델을 코드와 함께 제출해야 합니다.\n",
        "\n",
        "\n",
        "## 2. 환경 설정\n",
        "\n",
        "CUDA를 사용할 수 있는 환경에서 진행하는 것을 권장합니다. 필요하다면 [**Google Colab**](https://colab.research.google.com/?hl=ko)을 사용하세요.\n",
        "\n",
        "본 과제에서는 [**pytorch**](https://scikit-learn.org/stable/index.html)를 사용하여 neural network를 구현합니다.\n",
        "\n",
        "필요하다면 다른 package를 사용해도 되지만, 모델 및 학습 프로세스 구현에는 반드시 **pytorch**가 사용되어야 합니다.\n",
        "\n",
        "만약 다른 package를 사용했다면, 필요한 package의 list를 **requirements.txt** 로 같이 제출하세요."
      ]
    },
    {
      "cell_type": "markdown",
      "metadata": {
        "id": "Rvy1Fwamwdh-"
      },
      "source": [
        "## 3. 데이터셋\n",
        "\n",
        "### 3-1. 데이터셋 개요\n",
        "\n",
        "본 과제에서는 **CIFAR-100** 데이터셋을 바탕으로 이미지를 분류할 것입니다.\n",
        "\n",
        "**CIFAR-100**은 50,000개의 train 이미지와 10,000개의 test 이미지로 구성되어 있습니다.\n",
        "\n",
        "모든 이미지는 32x32 크기의 3채널 color 이미지로 주어지며 이를 100개의 class로 분류해야 합니다.\n",
        "\n",
        "아래의 코드를 사용하여 CIFAR-100 데이터셋을 사용할 수 있습니다.\n",
        "\n",
        "또한 `download`를 `True`로 설정하여 실행 시 데이터셋을 다운로드 받거나, 직접 [홈페이지](https://www.cs.toronto.edu/~kriz/cifar.html)에서 다운로드 받을 수 있다."
      ]
    },
    {
      "cell_type": "code",
      "source": [
        "from torchvision import datasets, transforms\n",
        "\n",
        "transform = transforms.Compose([\n",
        "    transforms.RandomCrop(32, padding=4),\n",
        "    transforms.RandomHorizontalFlip(),\n",
        "    transforms.ToTensor(),\n",
        "    transforms.Normalize((0.4914, 0.4822, 0.4465), (0.2023, 0.1994, 0.2010)),\n",
        "])"
      ],
      "metadata": {
        "id": "tuAvZqWX2orT"
      },
      "execution_count": 1,
      "outputs": []
    },
    {
      "cell_type": "code",
      "execution_count": 2,
      "metadata": {
        "colab": {
          "base_uri": "https://localhost:8080/"
        },
        "id": "scbG9VsQwdh_",
        "outputId": "c1b580a5-ed36-4aa0-85fb-9d239f35bfb0"
      },
      "outputs": [
        {
          "output_type": "stream",
          "name": "stdout",
          "text": [
            "Files already downloaded and verified\n",
            "Files already downloaded and verified\n"
          ]
        }
      ],
      "source": [
        "from pathlib import Path\n",
        "from torchvision import datasets\n",
        "import torch\n",
        "\n",
        "DATA_ROOT = Path(\"./data\") # modify this\n",
        "trainset = datasets.CIFAR100(DATA_ROOT, train=True, download=True, transform=transform)\n",
        "testset = datasets.CIFAR100(DATA_ROOT, train=False, download=True, transform=transform)\n",
        "\n",
        "# Check how the data looks like\n",
        "#testset[0]"
      ]
    },
    {
      "cell_type": "code",
      "source": [
        "\n",
        "\n",
        "train_loader = torch.utils.data.DataLoader(trainset, batch_size=4096, shuffle=True, num_workers=2, pin_memory=True)\n",
        "test_loader = torch.utils.data.DataLoader(testset, batch_size=4096, shuffle=True, num_workers=2, pin_memory=True)"
      ],
      "metadata": {
        "id": "iohbx5kH17gZ"
      },
      "execution_count": 3,
      "outputs": []
    },
    {
      "cell_type": "code",
      "source": [
        "for a in train_loader :\n",
        "  print(len(a[1]))\n",
        "  print(type(a[0]))\n",
        "  print(a[1])\n",
        "  break"
      ],
      "metadata": {
        "colab": {
          "base_uri": "https://localhost:8080/"
        },
        "id": "xPzudduC2Y54",
        "outputId": "5d17b891-b8a5-4dff-f2d9-52d177e3663a"
      },
      "execution_count": 4,
      "outputs": [
        {
          "output_type": "stream",
          "name": "stdout",
          "text": [
            "4096\n",
            "<class 'torch.Tensor'>\n",
            "tensor([41, 30, 74,  ..., 98, 13,  1])\n"
          ]
        }
      ]
    },
    {
      "cell_type": "markdown",
      "metadata": {
        "id": "_XTFnl0rwdiA"
      },
      "source": [
        "## 4. 구현사항 - 분류모델 학습과 평가\n",
        "\n",
        "### 4-1. Your own model **(주석 내에 코드를 작성하세요)**\n",
        "\n",
        "아래에 자신이 사용할 모델의 코드를 작성하세요.\n",
        "\n",
        "또한 Loss function, Optimizer 등을 정의하세요."
      ]
    },
    {
      "cell_type": "code",
      "execution_count": 5,
      "metadata": {
        "id": "oobH-K9pwdiA"
      },
      "outputs": [],
      "source": [
        "from torch import nn, Tensor, optim\n",
        "\n",
        "# Modify this\n",
        "class Your_Model(nn.Module):\n",
        "    def __init__(self) -> None:\n",
        "        super().__init__()\n",
        "        self.conv1 = nn.Conv2d(in_channels=3, out_channels=64, kernel_size=3, padding=1)\n",
        "        self.bn1 = nn.BatchNorm2d(64)\n",
        "        self.conv2 = nn.Conv2d(in_channels=64, out_channels=128, kernel_size=3, padding=1)\n",
        "        self.bn2 = nn.BatchNorm2d(128)\n",
        "        self.conv3 = nn.Conv2d(in_channels=128, out_channels=256, kernel_size=3, padding=1)\n",
        "        self.bn3 = nn.BatchNorm2d(256)\n",
        "        self.conv4 = nn.Conv2d(in_channels=256, out_channels=512, kernel_size=3, padding=1)\n",
        "        self.bn4 = nn.BatchNorm2d(512)\n",
        "\n",
        "        self.pool = nn.MaxPool2d(kernel_size=2, stride=2, padding=0)\n",
        "        self.dropout = nn.Dropout(p=0.4)\n",
        "\n",
        "        self.fc1 = nn.Linear(in_features=512*2*2, out_features=1024)\n",
        "        self.fc2 = nn.Linear(in_features=1024, out_features=512)\n",
        "        self.fc3 = nn.Linear(in_features=512, out_features=100)\n",
        "    def forward(self, x:Tensor):\n",
        "        x = self.pool(nn.functional.relu(self.bn1(self.conv1(x))))\n",
        "        x = self.pool(nn.functional.relu(self.bn2(self.conv2(x))))\n",
        "        x = self.pool(nn.functional.relu(self.bn3(self.conv3(x))))\n",
        "        x = self.pool(nn.functional.relu(self.bn4(self.conv4(x))))\n",
        "\n",
        "        x = x.view(-1, 512*2*2)\n",
        "\n",
        "        x = nn.functional.relu(self.fc1(x))\n",
        "        x = self.dropout(x)\n",
        "        x = nn.functional.relu(self.fc2(x))\n",
        "        x = self.dropout(x)\n",
        "        x = self.fc3(x)\n",
        "\n",
        "        return x\n",
        "\n"
      ]
    },
    {
      "cell_type": "code",
      "source": [
        "from torch import nn, Tensor, optim\n",
        "\n",
        "# Modify this\n",
        "class Your_Model2(nn.Module):\n",
        "    def __init__(self) -> None:\n",
        "        super().__init__()\n",
        "        self.conv1 = nn.Conv2d(in_channels=3, out_channels=32, kernel_size=3, padding=1)\n",
        "        self.bn1 = nn.BatchNorm2d(32)\n",
        "        self.conv2 = nn.Conv2d(in_channels=32, out_channels=64, kernel_size=3, padding=1)\n",
        "        self.bn2 = nn.BatchNorm2d(64)\n",
        "\n",
        "        self.pool = nn.MaxPool2d(kernel_size=2, stride=2, padding=0)\n",
        "        self.dropout = nn.Dropout(p=0.4)\n",
        "\n",
        "        self.fc1 = nn.Linear(in_features=64*8*8, out_features=1024)\n",
        "        self.fc2 = nn.Linear(in_features=1024, out_features=100)\n",
        "\n",
        "    def forward(self, x:Tensor):\n",
        "        x = self.pool(nn.functional.relu(self.bn1(self.conv1(x))))\n",
        "        x = self.pool(nn.functional.relu(self.bn2(self.conv2(x))))\n",
        "\n",
        "        x = x.view(-1, 64*8*8)\n",
        "\n",
        "        x = nn.functional.relu(self.fc1(x))\n",
        "        x = self.dropout(x)\n",
        "        x = self.fc2(x)\n",
        "\n",
        "        return x\n",
        "\n"
      ],
      "metadata": {
        "id": "p9oKMxsswOQh"
      },
      "execution_count": 8,
      "outputs": []
    },
    {
      "cell_type": "markdown",
      "metadata": {
        "id": "bWPhpGV-wdiA"
      },
      "source": [
        "### 4-2. Training **(주석 내에 코드를 작성하세요)**\n",
        "\n",
        "아래에 본인의 모델을 CIFAR-100의 `train` dataset으로 학습하는 코드를 작성하세요."
      ]
    },
    {
      "cell_type": "code",
      "execution_count": 10,
      "metadata": {
        "id": "LkCkrctIwdiA"
      },
      "outputs": [],
      "source": [
        "# Write your code here\n",
        "\n",
        "# 모델과 손실 함수, 옵티마이저 정의\n",
        "device = torch.device(\"cuda\")\n",
        "model = Your_Model2().to(device)  # 모델을 GPU로 이동\n",
        "criterion = nn.CrossEntropyLoss()\n",
        "optimizer = optim.Adam(model.parameters(), lr=0.001)\n",
        "\n",
        "# 학습 설정\n",
        "num_epochs = 100\n",
        "\n",
        "\n"
      ]
    },
    {
      "cell_type": "code",
      "source": [
        "for epoch in range(num_epochs):  # 에포크 반복\n",
        "    model.train()\n",
        "    running_loss = 0.0\n",
        "\n",
        "    for inputs, labels in train_loader:\n",
        "        # 데이터와 레이블을 디바이스로 이동\n",
        "        inputs, labels = inputs.cuda(), labels.cuda()\n",
        "\n",
        "        # 옵티마이저 초기화\n",
        "        optimizer.zero_grad()\n",
        "\n",
        "        # 순전파\n",
        "        outputs = model(inputs)\n",
        "        loss = criterion(outputs, labels)\n",
        "\n",
        "        # 역전파 및 옵티마이저 스텝\n",
        "        loss.backward()\n",
        "        optimizer.step()\n",
        "\n",
        "        # 손실 누적\n",
        "        running_loss += loss.item()\n",
        "\n",
        "    # 에포크마다 평균 손실 출력\n",
        "    print(f\"Epoch [{epoch+1}/{num_epochs}], Loss: {running_loss/len(train_loader):.4f}\")"
      ],
      "metadata": {
        "id": "x-9N23085-d2"
      },
      "execution_count": null,
      "outputs": []
    },
    {
      "cell_type": "code",
      "source": [
        "def calculate_accuracy(outputs, labels):\n",
        "    _, predicted = torch.max(outputs, 1)\n",
        "    correct = (predicted == labels).sum().item()\n",
        "    total = labels.size(0)\n",
        "    accuracy = correct / total\n",
        "    return accuracy\n"
      ],
      "metadata": {
        "id": "FDL2F8nNIwOR"
      },
      "execution_count": 11,
      "outputs": []
    },
    {
      "cell_type": "code",
      "source": [
        "\n",
        "import matplotlib.pyplot as plt\n",
        "\n",
        "def train_model(model, criterion, optimizer, train_loader, num_epochs):\n",
        "    train_losses = []\n",
        "    train_accuracies = []\n",
        "\n",
        "    for epoch in range(num_epochs):\n",
        "        model.train()\n",
        "        running_loss = 0.0\n",
        "        correct = 0\n",
        "        total = 0\n",
        "\n",
        "        for inputs, labels in train_loader:\n",
        "            inputs, labels = inputs.cuda(), labels.cuda()\n",
        "            optimizer.zero_grad()\n",
        "            outputs = model(inputs)\n",
        "            loss = criterion(outputs, labels)\n",
        "            loss.backward()\n",
        "            optimizer.step()\n",
        "\n",
        "            running_loss += loss.item()\n",
        "            _, predicted = torch.max(outputs, 1)\n",
        "            total += labels.size(0)\n",
        "            correct += (predicted == labels).sum().item()\n",
        "\n",
        "        epoch_loss = running_loss / len(train_loader)\n",
        "        epoch_accuracy = correct / total\n",
        "\n",
        "        train_losses.append(epoch_loss)\n",
        "        train_accuracies.append(epoch_accuracy)\n",
        "\n",
        "        print(f\"Epoch [{epoch+1}/{num_epochs}], Loss: {epoch_loss:.4f}, Accuracy: {epoch_accuracy:.4f}\")\n",
        "\n",
        "    return train_losses, train_accuracies\n",
        "\n",
        "# Assuming train_loader is defined elsewhere\n",
        "train_losses, train_accuracies = train_model(model, criterion, optimizer, train_loader, num_epochs)\n"
      ],
      "metadata": {
        "colab": {
          "base_uri": "https://localhost:8080/"
        },
        "id": "CzrpsEBG_qKo",
        "outputId": "b269f0e2-0766-41ce-cc25-a20388b8deee"
      },
      "execution_count": 12,
      "outputs": [
        {
          "output_type": "stream",
          "name": "stdout",
          "text": [
            "Epoch [1/100], Loss: 4.3294, Accuracy: 0.0546\n",
            "Epoch [2/100], Loss: 3.8410, Accuracy: 0.1129\n",
            "Epoch [3/100], Loss: 3.6087, Accuracy: 0.1482\n",
            "Epoch [4/100], Loss: 3.4377, Accuracy: 0.1759\n",
            "Epoch [5/100], Loss: 3.2934, Accuracy: 0.2024\n",
            "Epoch [6/100], Loss: 3.1841, Accuracy: 0.2228\n",
            "Epoch [7/100], Loss: 3.0823, Accuracy: 0.2402\n",
            "Epoch [8/100], Loss: 2.9951, Accuracy: 0.2561\n",
            "Epoch [9/100], Loss: 2.9221, Accuracy: 0.2689\n",
            "Epoch [10/100], Loss: 2.8620, Accuracy: 0.2835\n",
            "Epoch [11/100], Loss: 2.7979, Accuracy: 0.2934\n",
            "Epoch [12/100], Loss: 2.7411, Accuracy: 0.3033\n",
            "Epoch [13/100], Loss: 2.6884, Accuracy: 0.3141\n",
            "Epoch [14/100], Loss: 2.6652, Accuracy: 0.3190\n",
            "Epoch [15/100], Loss: 2.6241, Accuracy: 0.3291\n",
            "Epoch [16/100], Loss: 2.5872, Accuracy: 0.3350\n",
            "Epoch [17/100], Loss: 2.5551, Accuracy: 0.3418\n",
            "Epoch [18/100], Loss: 2.5188, Accuracy: 0.3513\n",
            "Epoch [19/100], Loss: 2.4963, Accuracy: 0.3581\n",
            "Epoch [20/100], Loss: 2.4787, Accuracy: 0.3610\n",
            "Epoch [21/100], Loss: 2.4480, Accuracy: 0.3644\n",
            "Epoch [22/100], Loss: 2.4360, Accuracy: 0.3698\n",
            "Epoch [23/100], Loss: 2.4148, Accuracy: 0.3760\n",
            "Epoch [24/100], Loss: 2.3986, Accuracy: 0.3779\n",
            "Epoch [25/100], Loss: 2.3754, Accuracy: 0.3815\n",
            "Epoch [26/100], Loss: 2.3713, Accuracy: 0.3843\n",
            "Epoch [27/100], Loss: 2.3315, Accuracy: 0.3905\n",
            "Epoch [28/100], Loss: 2.3199, Accuracy: 0.3933\n",
            "Epoch [29/100], Loss: 2.3181, Accuracy: 0.3929\n",
            "Epoch [30/100], Loss: 2.3017, Accuracy: 0.3968\n",
            "Epoch [31/100], Loss: 2.2974, Accuracy: 0.3961\n",
            "Epoch [32/100], Loss: 2.2748, Accuracy: 0.4018\n",
            "Epoch [33/100], Loss: 2.2633, Accuracy: 0.4059\n",
            "Epoch [34/100], Loss: 2.2426, Accuracy: 0.4104\n",
            "Epoch [35/100], Loss: 2.2228, Accuracy: 0.4140\n",
            "Epoch [36/100], Loss: 2.2232, Accuracy: 0.4151\n",
            "Epoch [37/100], Loss: 2.2071, Accuracy: 0.4141\n",
            "Epoch [38/100], Loss: 2.2128, Accuracy: 0.4187\n",
            "Epoch [39/100], Loss: 2.1944, Accuracy: 0.4179\n",
            "Epoch [40/100], Loss: 2.1767, Accuracy: 0.4237\n",
            "Epoch [41/100], Loss: 2.1601, Accuracy: 0.4285\n",
            "Epoch [42/100], Loss: 2.1627, Accuracy: 0.4282\n",
            "Epoch [43/100], Loss: 2.1417, Accuracy: 0.4301\n",
            "Epoch [44/100], Loss: 2.1355, Accuracy: 0.4331\n",
            "Epoch [45/100], Loss: 2.1229, Accuracy: 0.4372\n",
            "Epoch [46/100], Loss: 2.1030, Accuracy: 0.4384\n",
            "Epoch [47/100], Loss: 2.1033, Accuracy: 0.4432\n",
            "Epoch [48/100], Loss: 2.1039, Accuracy: 0.4412\n",
            "Epoch [49/100], Loss: 2.0892, Accuracy: 0.4455\n",
            "Epoch [50/100], Loss: 2.0785, Accuracy: 0.4451\n",
            "Epoch [51/100], Loss: 2.0867, Accuracy: 0.4438\n",
            "Epoch [52/100], Loss: 2.0696, Accuracy: 0.4486\n",
            "Epoch [53/100], Loss: 2.0781, Accuracy: 0.4491\n",
            "Epoch [54/100], Loss: 2.0594, Accuracy: 0.4497\n",
            "Epoch [55/100], Loss: 2.0430, Accuracy: 0.4529\n",
            "Epoch [56/100], Loss: 2.0263, Accuracy: 0.4558\n",
            "Epoch [57/100], Loss: 2.0295, Accuracy: 0.4553\n",
            "Epoch [58/100], Loss: 2.0255, Accuracy: 0.4598\n",
            "Epoch [59/100], Loss: 2.0137, Accuracy: 0.4565\n",
            "Epoch [60/100], Loss: 2.0193, Accuracy: 0.4571\n",
            "Epoch [61/100], Loss: 2.0113, Accuracy: 0.4608\n",
            "Epoch [62/100], Loss: 1.9922, Accuracy: 0.4631\n",
            "Epoch [63/100], Loss: 1.9913, Accuracy: 0.4652\n",
            "Epoch [64/100], Loss: 1.9872, Accuracy: 0.4656\n",
            "Epoch [65/100], Loss: 1.9779, Accuracy: 0.4680\n",
            "Epoch [66/100], Loss: 1.9646, Accuracy: 0.4700\n",
            "Epoch [67/100], Loss: 1.9727, Accuracy: 0.4671\n",
            "Epoch [68/100], Loss: 1.9730, Accuracy: 0.4680\n",
            "Epoch [69/100], Loss: 1.9601, Accuracy: 0.4706\n",
            "Epoch [70/100], Loss: 1.9491, Accuracy: 0.4744\n",
            "Epoch [71/100], Loss: 1.9605, Accuracy: 0.4715\n",
            "Epoch [72/100], Loss: 1.9446, Accuracy: 0.4703\n",
            "Epoch [73/100], Loss: 1.9318, Accuracy: 0.4785\n",
            "Epoch [74/100], Loss: 1.9282, Accuracy: 0.4760\n",
            "Epoch [75/100], Loss: 1.9358, Accuracy: 0.4779\n",
            "Epoch [76/100], Loss: 1.9130, Accuracy: 0.4800\n",
            "Epoch [77/100], Loss: 1.9133, Accuracy: 0.4811\n",
            "Epoch [78/100], Loss: 1.9174, Accuracy: 0.4811\n",
            "Epoch [79/100], Loss: 1.9047, Accuracy: 0.4848\n",
            "Epoch [80/100], Loss: 1.8962, Accuracy: 0.4860\n",
            "Epoch [81/100], Loss: 1.8975, Accuracy: 0.4847\n",
            "Epoch [82/100], Loss: 1.8957, Accuracy: 0.4852\n",
            "Epoch [83/100], Loss: 1.8866, Accuracy: 0.4857\n",
            "Epoch [84/100], Loss: 1.8707, Accuracy: 0.4922\n",
            "Epoch [85/100], Loss: 1.8827, Accuracy: 0.4875\n",
            "Epoch [86/100], Loss: 1.8765, Accuracy: 0.4916\n",
            "Epoch [87/100], Loss: 1.8724, Accuracy: 0.4908\n",
            "Epoch [88/100], Loss: 1.8730, Accuracy: 0.4909\n",
            "Epoch [89/100], Loss: 1.8588, Accuracy: 0.4972\n",
            "Epoch [90/100], Loss: 1.8626, Accuracy: 0.4962\n",
            "Epoch [91/100], Loss: 1.8500, Accuracy: 0.4967\n",
            "Epoch [92/100], Loss: 1.8484, Accuracy: 0.4973\n",
            "Epoch [93/100], Loss: 1.8449, Accuracy: 0.4970\n",
            "Epoch [94/100], Loss: 1.8441, Accuracy: 0.4949\n",
            "Epoch [95/100], Loss: 1.8352, Accuracy: 0.4982\n",
            "Epoch [96/100], Loss: 1.8407, Accuracy: 0.4990\n",
            "Epoch [97/100], Loss: 1.8323, Accuracy: 0.5002\n",
            "Epoch [98/100], Loss: 1.8249, Accuracy: 0.4993\n",
            "Epoch [99/100], Loss: 1.8116, Accuracy: 0.5032\n",
            "Epoch [100/100], Loss: 1.8029, Accuracy: 0.5046\n"
          ]
        }
      ]
    },
    {
      "cell_type": "markdown",
      "source": [],
      "metadata": {
        "id": "uTVlpYck5fOW"
      }
    },
    {
      "cell_type": "code",
      "source": [
        "num_epochs"
      ],
      "metadata": {
        "colab": {
          "base_uri": "https://localhost:8080/"
        },
        "id": "F0RWLi1m2zJx",
        "outputId": "012b055c-b12a-4fbd-81d0-18b63b87b6d8"
      },
      "execution_count": 13,
      "outputs": [
        {
          "output_type": "execute_result",
          "data": {
            "text/plain": [
              "100"
            ]
          },
          "metadata": {},
          "execution_count": 13
        }
      ]
    },
    {
      "cell_type": "code",
      "source": [
        "plt.figure(figsize=(10, 5))\n",
        "\n",
        "# Plotting Loss\n",
        "plt.subplot(1, 2, 1)\n",
        "plt.plot(range(1, num_epochs+1), train_losses, label='Training Loss')\n",
        "plt.xlabel('Epochs')\n",
        "plt.ylabel('Loss')\n",
        "plt.title('Training Loss over epochs')\n",
        "plt.legend()\n",
        "\n",
        "# Plotting Accuracy\n",
        "plt.subplot(1, 2, 2)\n",
        "plt.plot(range(1, num_epochs+1), train_accuracies, label='Training Accuracy')\n",
        "plt.xlabel('Epochs')\n",
        "plt.ylabel('Accuracy')\n",
        "plt.title('Training Accuracy over epochs')\n",
        "plt.legend()\n",
        "\n",
        "plt.tight_layout()\n",
        "plt.show()\n"
      ],
      "metadata": {
        "colab": {
          "base_uri": "https://localhost:8080/",
          "height": 507
        },
        "id": "GwXe_j8wIzdR",
        "outputId": "364b242b-8642-4351-bdce-c6db4b4412b7"
      },
      "execution_count": 14,
      "outputs": [
        {
          "output_type": "display_data",
          "data": {
            "text/plain": [
              "<Figure size 1000x500 with 2 Axes>"
            ],
            "image/png": "[encoded data removed]"
          },
          "metadata": {}
        }
      ]
    },
    {
      "cell_type": "markdown",
      "metadata": {
        "id": "7cmQHprkwdiA"
      },
      "source": [
        "### 4-3. Evaluation **(주석 내에 코드를 작성하세요)**\n",
        "\n",
        "아래에 본인의 모델을 CIFAR-100의 `test` dataset으로 정확도를 평가하고 출력하는 코드를 작성하세요."
      ]
    },
    {
      "cell_type": "code",
      "execution_count": 17,
      "metadata": {
        "colab": {
          "base_uri": "https://localhost:8080/"
        },
        "id": "9XB9X1zhwdiB",
        "outputId": "7aef11bd-0cd0-4692-855d-55c5518a42b4"
      },
      "outputs": [
        {
          "output_type": "stream",
          "name": "stdout",
          "text": [
            "Accuracy of the model on the 10000 test images: 58.79%\n"
          ]
        }
      ],
      "source": [
        "# Write your code here\n",
        "\n",
        "model.eval()\n",
        "correct = 0\n",
        "total = 0\n",
        "\n",
        "with torch.no_grad():\n",
        "    for inputs, labels in train_loader:\n",
        "\n",
        "        inputs, labels = inputs.cuda(), labels.cuda()\n",
        "        outputs = model(inputs)\n",
        "        _, predicted = torch.max(outputs.data, 1)\n",
        "        total += labels.size(0)\n",
        "        correct += (predicted == labels).sum().item()\n",
        "\n",
        "accuracy = 100 * correct / total\n",
        "print(f'Accuracy of the model on the', total, f'test images: {accuracy:.2f}%')\n"
      ]
    },
    {
      "cell_type": "code",
      "source": [
        "# Write your code here\n",
        "\n",
        "model.eval()\n",
        "correct = 0\n",
        "total = 0\n",
        "\n",
        "with torch.no_grad():\n",
        "    for inputs, labels in test_loader:\n",
        "\n",
        "        inputs, labels = inputs.cuda(), labels.cuda()\n",
        "        outputs = model(inputs)\n",
        "        _, predicted = torch.max(outputs.data, 1)\n",
        "        total += labels.size(0)\n",
        "        correct += (predicted == labels).sum().item()\n",
        "\n",
        "accuracy = 100 * correct / total\n",
        "print(f'Accuracy of the model on the', total, f'test images: {accuracy:.2f}%')\n"
      ],
      "metadata": {
        "colab": {
          "base_uri": "https://localhost:8080/"
        },
        "id": "1aZMvic13Jjj",
        "outputId": "17c13cb6-5ba4-40a8-bb97-fc72730fa69c"
      },
      "execution_count": 20,
      "outputs": [
        {
          "output_type": "stream",
          "name": "stdout",
          "text": [
            "Accuracy of the model on the 10000 test images: 48.68%\n"
          ]
        }
      ]
    },
    {
      "cell_type": "code",
      "source": [
        "# Write your code here\n",
        "torch.cuda.empty_cache()\n",
        "# 모델과 손실 함수, 옵티마이저 정의\n",
        "device = torch.device(\"cuda\")\n",
        "model = Your_Model().to(device)  # 모델을 GPU로 이동\n",
        "criterion = nn.CrossEntropyLoss()\n",
        "optimizer = optim.Adam(model.parameters(), lr=0.001)\n",
        "\n",
        "# 학습 설정\n",
        "num_epochs = 100\n",
        "\n",
        "train_losses, train_accuracies = train_model(model, criterion, optimizer, train_loader, num_epochs)\n"
      ],
      "metadata": {
        "colab": {
          "base_uri": "https://localhost:8080/"
        },
        "id": "7mAD_uRnDHe7",
        "outputId": "08e2c20f-9820-487a-caf4-091dc768c2a4"
      },
      "execution_count": 21,
      "outputs": [
        {
          "output_type": "stream",
          "name": "stdout",
          "text": [
            "Epoch [1/100], Loss: 4.3454, Accuracy: 0.0398\n",
            "Epoch [2/100], Loss: 3.9002, Accuracy: 0.0886\n",
            "Epoch [3/100], Loss: 3.6713, Accuracy: 0.1194\n",
            "Epoch [4/100], Loss: 3.4919, Accuracy: 0.1486\n",
            "Epoch [5/100], Loss: 3.3251, Accuracy: 0.1800\n",
            "Epoch [6/100], Loss: 3.1511, Accuracy: 0.2104\n",
            "Epoch [7/100], Loss: 3.0118, Accuracy: 0.2373\n",
            "Epoch [8/100], Loss: 2.8955, Accuracy: 0.2596\n",
            "Epoch [9/100], Loss: 2.7827, Accuracy: 0.2832\n",
            "Epoch [10/100], Loss: 2.6615, Accuracy: 0.3080\n",
            "Epoch [11/100], Loss: 2.5674, Accuracy: 0.3255\n",
            "Epoch [12/100], Loss: 2.5237, Accuracy: 0.3364\n",
            "Epoch [13/100], Loss: 2.4449, Accuracy: 0.3528\n",
            "Epoch [14/100], Loss: 2.3905, Accuracy: 0.3661\n",
            "Epoch [15/100], Loss: 2.3114, Accuracy: 0.3807\n",
            "Epoch [16/100], Loss: 2.2706, Accuracy: 0.3908\n",
            "Epoch [17/100], Loss: 2.2161, Accuracy: 0.4046\n",
            "Epoch [18/100], Loss: 2.1696, Accuracy: 0.4135\n",
            "Epoch [19/100], Loss: 2.1245, Accuracy: 0.4237\n",
            "Epoch [20/100], Loss: 2.0726, Accuracy: 0.4339\n",
            "Epoch [21/100], Loss: 2.0379, Accuracy: 0.4454\n",
            "Epoch [22/100], Loss: 1.9994, Accuracy: 0.4555\n",
            "Epoch [23/100], Loss: 1.9730, Accuracy: 0.4604\n",
            "Epoch [24/100], Loss: 1.9527, Accuracy: 0.4655\n",
            "Epoch [25/100], Loss: 1.9203, Accuracy: 0.4720\n",
            "Epoch [26/100], Loss: 1.8668, Accuracy: 0.4842\n",
            "Epoch [27/100], Loss: 1.8364, Accuracy: 0.4886\n",
            "Epoch [28/100], Loss: 1.8136, Accuracy: 0.4959\n",
            "Epoch [29/100], Loss: 1.7916, Accuracy: 0.5021\n",
            "Epoch [30/100], Loss: 1.7516, Accuracy: 0.5092\n",
            "Epoch [31/100], Loss: 1.7308, Accuracy: 0.5150\n",
            "Epoch [32/100], Loss: 1.7051, Accuracy: 0.5256\n",
            "Epoch [33/100], Loss: 1.6908, Accuracy: 0.5274\n",
            "Epoch [34/100], Loss: 1.6755, Accuracy: 0.5291\n",
            "Epoch [35/100], Loss: 1.6812, Accuracy: 0.5316\n",
            "Epoch [36/100], Loss: 1.6285, Accuracy: 0.5413\n",
            "Epoch [37/100], Loss: 1.6038, Accuracy: 0.5476\n",
            "Epoch [38/100], Loss: 1.5851, Accuracy: 0.5516\n",
            "Epoch [39/100], Loss: 1.5704, Accuracy: 0.5539\n",
            "Epoch [40/100], Loss: 1.5407, Accuracy: 0.5612\n",
            "Epoch [41/100], Loss: 1.5459, Accuracy: 0.5602\n",
            "Epoch [42/100], Loss: 1.5124, Accuracy: 0.5643\n",
            "Epoch [43/100], Loss: 1.5086, Accuracy: 0.5689\n",
            "Epoch [44/100], Loss: 1.4843, Accuracy: 0.5751\n",
            "Epoch [45/100], Loss: 1.4633, Accuracy: 0.5799\n",
            "Epoch [46/100], Loss: 1.4412, Accuracy: 0.5856\n",
            "Epoch [47/100], Loss: 1.4462, Accuracy: 0.5843\n",
            "Epoch [48/100], Loss: 1.4294, Accuracy: 0.5873\n",
            "Epoch [49/100], Loss: 1.4080, Accuracy: 0.5931\n",
            "Epoch [50/100], Loss: 1.3817, Accuracy: 0.6010\n",
            "Epoch [51/100], Loss: 1.3844, Accuracy: 0.5986\n",
            "Epoch [52/100], Loss: 1.3515, Accuracy: 0.6086\n",
            "Epoch [53/100], Loss: 1.3575, Accuracy: 0.6048\n",
            "Epoch [54/100], Loss: 1.3443, Accuracy: 0.6083\n",
            "Epoch [55/100], Loss: 1.3240, Accuracy: 0.6152\n",
            "Epoch [56/100], Loss: 1.3078, Accuracy: 0.6179\n",
            "Epoch [57/100], Loss: 1.3046, Accuracy: 0.6190\n",
            "Epoch [58/100], Loss: 1.2777, Accuracy: 0.6240\n",
            "Epoch [59/100], Loss: 1.2586, Accuracy: 0.6292\n",
            "Epoch [60/100], Loss: 1.2450, Accuracy: 0.6345\n",
            "Epoch [61/100], Loss: 1.2541, Accuracy: 0.6314\n",
            "Epoch [62/100], Loss: 1.2342, Accuracy: 0.6344\n",
            "Epoch [63/100], Loss: 1.2363, Accuracy: 0.6373\n",
            "Epoch [64/100], Loss: 1.2178, Accuracy: 0.6369\n",
            "Epoch [65/100], Loss: 1.1959, Accuracy: 0.6428\n",
            "Epoch [66/100], Loss: 1.1983, Accuracy: 0.6460\n",
            "Epoch [67/100], Loss: 1.1811, Accuracy: 0.6486\n",
            "Epoch [68/100], Loss: 1.1777, Accuracy: 0.6494\n",
            "Epoch [69/100], Loss: 1.1579, Accuracy: 0.6533\n",
            "Epoch [70/100], Loss: 1.1558, Accuracy: 0.6554\n",
            "Epoch [71/100], Loss: 1.1401, Accuracy: 0.6597\n",
            "Epoch [72/100], Loss: 1.1435, Accuracy: 0.6584\n",
            "Epoch [73/100], Loss: 1.1242, Accuracy: 0.6642\n",
            "Epoch [74/100], Loss: 1.1147, Accuracy: 0.6669\n",
            "Epoch [75/100], Loss: 1.0956, Accuracy: 0.6698\n",
            "Epoch [76/100], Loss: 1.0934, Accuracy: 0.6728\n",
            "Epoch [77/100], Loss: 1.0919, Accuracy: 0.6720\n",
            "Epoch [78/100], Loss: 1.0806, Accuracy: 0.6768\n",
            "Epoch [79/100], Loss: 1.0785, Accuracy: 0.6740\n",
            "Epoch [80/100], Loss: 1.0479, Accuracy: 0.6822\n",
            "Epoch [81/100], Loss: 1.0364, Accuracy: 0.6872\n",
            "Epoch [82/100], Loss: 1.0422, Accuracy: 0.6854\n",
            "Epoch [83/100], Loss: 1.0266, Accuracy: 0.6903\n",
            "Epoch [84/100], Loss: 1.0206, Accuracy: 0.6894\n",
            "Epoch [85/100], Loss: 1.0043, Accuracy: 0.6958\n",
            "Epoch [86/100], Loss: 0.9961, Accuracy: 0.6984\n",
            "Epoch [87/100], Loss: 1.0042, Accuracy: 0.6977\n",
            "Epoch [88/100], Loss: 1.0053, Accuracy: 0.6943\n",
            "Epoch [89/100], Loss: 0.9912, Accuracy: 0.6967\n",
            "Epoch [90/100], Loss: 0.9825, Accuracy: 0.7018\n",
            "Epoch [91/100], Loss: 0.9597, Accuracy: 0.7051\n",
            "Epoch [92/100], Loss: 0.9601, Accuracy: 0.7083\n",
            "Epoch [93/100], Loss: 0.9501, Accuracy: 0.7063\n",
            "Epoch [94/100], Loss: 0.9424, Accuracy: 0.7114\n",
            "Epoch [95/100], Loss: 0.9326, Accuracy: 0.7135\n",
            "Epoch [96/100], Loss: 0.9247, Accuracy: 0.7169\n",
            "Epoch [97/100], Loss: 0.9054, Accuracy: 0.7216\n",
            "Epoch [98/100], Loss: 0.9226, Accuracy: 0.7175\n",
            "Epoch [99/100], Loss: 0.9133, Accuracy: 0.7168\n",
            "Epoch [100/100], Loss: 0.9068, Accuracy: 0.7195\n"
          ]
        }
      ]
    },
    {
      "cell_type": "code",
      "source": [
        "# Write your code here\n",
        "\n",
        "model.eval()\n",
        "correct = 0\n",
        "total = 0\n",
        "\n",
        "with torch.no_grad():\n",
        "    for inputs, labels in train_loader:\n",
        "\n",
        "        inputs, labels = inputs.cuda(), labels.cuda()\n",
        "        outputs = model(inputs)\n",
        "        _, predicted = torch.max(outputs.data, 1)\n",
        "        total += labels.size(0)\n",
        "        correct += (predicted == labels).sum().item()\n",
        "\n",
        "accuracy = 100 * correct / total\n",
        "print(f'Accuracy of the model on the 10000 test images: {accuracy:.2f}%')\n"
      ],
      "metadata": {
        "colab": {
          "base_uri": "https://localhost:8080/"
        },
        "id": "COButbTCDL9d",
        "outputId": "739b66dd-d26a-4e15-ffbe-cc49f8ef5b36"
      },
      "execution_count": 22,
      "outputs": [
        {
          "output_type": "stream",
          "name": "stdout",
          "text": [
            "Accuracy of the model on the 10000 test images: 77.74%\n"
          ]
        }
      ]
    },
    {
      "cell_type": "code",
      "source": [
        "# Write your code here\n",
        "\n",
        "model.eval()\n",
        "correct = 0\n",
        "total = 0\n",
        "\n",
        "with torch.no_grad():\n",
        "    for inputs, labels in test_loader:\n",
        "\n",
        "        inputs, labels = inputs.cuda(), labels.cuda()\n",
        "        outputs = model(inputs)\n",
        "        _, predicted = torch.max(outputs.data, 1)\n",
        "        total += labels.size(0)\n",
        "        correct += (predicted == labels).sum().item()\n",
        "\n",
        "accuracy = 100 * correct / total\n",
        "print(f'Accuracy of the model on the', total, f'test images: {accuracy:.2f}%')\n"
      ],
      "metadata": {
        "colab": {
          "base_uri": "https://localhost:8080/"
        },
        "id": "TWf5zdCoDnw3",
        "outputId": "2948810c-9f0c-4100-e611-28cf42f14fff"
      },
      "execution_count": 23,
      "outputs": [
        {
          "output_type": "stream",
          "name": "stdout",
          "text": [
            "Accuracy of the model on the 10000 test images: 58.53%\n"
          ]
        }
      ]
    }
  ],
  "metadata": {
    "kernelspec": {
      "display_name": "Python 3",
      "name": "python3"
    },
    "language_info": {
      "codemirror_mode": {
        "name": "ipython",
        "version": 3
      },
      "file_extension": ".py",
      "mimetype": "text/x-python",
      "name": "python",
      "nbconvert_exporter": "python",
      "pygments_lexer": "ipython3",
      "version": "3.10.11"
    },
    "colab": {
      "provenance": [],
      "gpuType": "T4"
    },
    "accelerator": "GPU"
  },
  "nbformat": 4,
  "nbformat_minor": 0
}