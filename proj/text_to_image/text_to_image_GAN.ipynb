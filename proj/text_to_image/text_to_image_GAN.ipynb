{
  "cells": [
    {
      "cell_type": "code",
      "execution_count": null,
      "metadata": {
        "id": "gN1e-OrhVa6Y"
      },
      "outputs": [],
      "source": [
        "import torch\n",
        "import torch.nn as nn\n",
        "import torch.optim as optim\n",
        "from torchvision import datasets, transforms\n",
        "import matplotlib.pyplot as plt\n",
        "import torchvision\n",
        "from torch.utils.data import DataLoader\n",
        "from torch.utils.tensorboard import SummaryWriter\n"
      ]
    },
    {
      "cell_type": "code",
      "execution_count": null,
      "metadata": {
        "colab": {
          "base_uri": "https://localhost:8080/"
        },
        "id": "EDOknIGW6XZ2",
        "outputId": "b2c313d4-c7a2-4a06-ac6b-4419f71050de"
      },
      "outputs": [
        {
          "name": "stdout",
          "output_type": "stream",
          "text": [
            "Files already downloaded and verified\n",
            "Files already downloaded and verified\n"
          ]
        }
      ],
      "source": [
        "transform = transforms.Compose(\n",
        "    [transforms.ToTensor(),\n",
        "     transforms.Normalize((0.5, 0.5, 0.5), (0.5, 0.5, 0.5))])\n",
        "\n",
        "batch_size = 4\n",
        "\n",
        "trainset = torchvision.datasets.CIFAR10(root='./data', train=True,\n",
        "                                        download=True, transform=transform)\n",
        "trainloader = torch.utils.data.DataLoader(trainset, batch_size=batch_size,\n",
        "                                          shuffle=True, num_workers=2)\n",
        "\n",
        "testset = torchvision.datasets.CIFAR10(root='./data', train=False,\n",
        "                                       download=True, transform=transform)\n",
        "testloader = torch.utils.data.DataLoader(testset, batch_size=batch_size,\n",
        "                                         shuffle=False, num_workers=2)\n",
        "\n",
        "classes = ('plane', 'car', 'bird', 'cat',\n",
        "           'deer', 'dog', 'frog', 'horse', 'ship', 'truck')"
      ]
    },
    {
      "cell_type": "code",
      "execution_count": null,
      "metadata": {
        "id": "6Do6FHxp9Lvz"
      },
      "outputs": [],
      "source": [
        "vocab = {token : i for i, token in enumerate(classes)}"
      ]
    },
    {
      "cell_type": "code",
      "execution_count": null,
      "metadata": {
        "colab": {
          "base_uri": "https://localhost:8080/"
        },
        "id": "DakXuAhN9mwx",
        "outputId": "18e18699-6a20-4319-82f2-61feaee5330f"
      },
      "outputs": [
        {
          "data": {
            "text/plain": [
              "0"
            ]
          },
          "execution_count": 26,
          "metadata": {},
          "output_type": "execute_result"
        }
      ],
      "source": [
        "vocab['plane']"
      ]
    },
    {
      "cell_type": "code",
      "execution_count": null,
      "metadata": {
        "colab": {
          "base_uri": "https://localhost:8080/"
        },
        "id": "fg8c6eWK9gYh",
        "outputId": "4f24e484-c54a-4bf2-b4c6-6e5f0033b902"
      },
      "outputs": [
        {
          "data": {
            "text/plain": [
              "tensor([-1.0734,  0.5133, -0.4517,  0.5881, -0.8415, -0.0935,  0.7483, -0.5629,\n",
              "        -2.4380, -1.0753, -0.0419,  0.1076,  0.4861,  0.5372,  0.1953, -1.7633,\n",
              "         0.1060,  0.0954, -0.7526, -2.2716, -0.4043,  0.6821,  0.1122,  0.1696,\n",
              "        -1.6406, -0.7940,  1.3270, -0.3973,  0.7523, -0.3052, -1.0109,  0.5465,\n",
              "        -0.7676,  0.1359,  0.6130, -0.9589,  1.6282,  2.3084,  1.7374,  0.5461,\n",
              "        -0.3765,  0.2708,  0.1163,  1.2275, -1.5692, -0.4933, -0.7265,  0.3483,\n",
              "         0.6115, -1.7244,  0.7134, -0.0529, -0.1406,  0.2402, -1.1725, -1.0420,\n",
              "         0.5236, -0.8554,  0.0701, -0.7789,  0.3120,  0.5954, -0.2068, -1.2187,\n",
              "         1.2731, -0.8906,  2.6085, -0.6826,  1.9298, -0.9838,  0.1132,  2.1583,\n",
              "        -0.2278,  0.8803,  0.2314, -1.3636,  0.8352, -1.6314, -0.1012,  0.9415,\n",
              "         0.5466, -2.4939, -0.6337, -0.5365, -0.3852,  0.3758, -0.0079,  1.5447,\n",
              "        -1.0865,  1.2421,  0.3154,  0.9170,  1.9984,  0.9975,  1.6064, -2.0254,\n",
              "        -1.2586, -0.5746,  0.0951,  0.5400], grad_fn=<SelectBackward0>)"
            ]
          },
          "execution_count": 30,
          "metadata": {},
          "output_type": "execute_result"
        }
      ],
      "source": [
        "embeddings = nn.Embedding(num_embeddings=len(vocab),\n",
        "                               embedding_dim=100,\n",
        "                               padding_idx=1)\n",
        "embeddings.weight[vocab['plane']]"
      ]
    },
    {
      "cell_type": "code",
      "execution_count": null,
      "metadata": {
        "colab": {
          "base_uri": "https://localhost:8080/"
        },
        "id": "O4nAknh492WP",
        "outputId": "5ecdea2c-427d-4875-b747-2f24164d19f5"
      },
      "outputs": [
        {
          "data": {
            "text/plain": [
              "tensor([-1.5414, -0.6428,  1.3731,  0.6179,  1.0025,  2.4893,  0.5452,  1.3181,\n",
              "         0.8055, -0.4949, -1.2283, -0.0635,  0.0440,  0.3732,  0.7087, -1.2715,\n",
              "         0.5891, -0.8190, -0.7149,  1.1589,  0.0898,  1.4648,  1.5880, -2.2797,\n",
              "        -2.1166,  0.6040, -0.2013, -0.3680,  1.1748, -0.3250, -0.9784,  0.3442,\n",
              "         2.0386, -0.8861,  1.1187, -0.4115, -0.7072, -1.3103, -0.7540,  0.2769,\n",
              "        -0.8163, -0.3642, -0.7399, -0.2348,  1.3518,  0.9214,  0.3316,  1.4330,\n",
              "         0.7606, -1.3257,  0.6359, -0.0617,  0.3488, -0.5065,  0.1406, -0.5146,\n",
              "        -0.0215,  1.0663,  2.2238, -0.1399,  1.3460,  1.5573, -0.2280, -2.3574,\n",
              "         0.7921,  0.7998,  0.1028, -0.4847, -1.1094, -0.4421,  0.4147,  0.1012,\n",
              "         0.6391,  2.3570,  0.3427, -1.9669, -0.5220, -0.0996,  1.0179, -1.6325,\n",
              "         1.1023,  0.0575, -0.1436,  2.0565, -2.2330, -2.0042,  0.6820,  1.6205,\n",
              "        -0.6543, -0.1607, -0.5222, -1.3216, -0.7774,  1.4304,  2.8274,  0.9837,\n",
              "        -1.4101, -0.4940,  2.3846,  0.9826], grad_fn=<SelectBackward0>)"
            ]
          },
          "execution_count": 35,
          "metadata": {},
          "output_type": "execute_result"
        }
      ],
      "source": [
        "embeddings.weight[6]"
      ]
    },
    {
      "cell_type": "code",
      "execution_count": null,
      "metadata": {
        "colab": {
          "base_uri": "https://localhost:8080/",
          "height": 210
        },
        "id": "T1iSdQws6sJ7",
        "outputId": "a905b948-c8f6-478b-ac3c-eb92c0c1ebd8"
      },
      "outputs": [
        {
          "data": {
            "image/png": "[encoded data removed]",
            "text/plain": [
              "<Figure size 640x480 with 1 Axes>"
            ]
          },
          "metadata": {},
          "output_type": "display_data"
        },
        {
          "name": "stdout",
          "output_type": "stream",
          "text": [
            "bird  dog   frog  ship \n"
          ]
        }
      ],
      "source": [
        "import matplotlib.pyplot as plt\n",
        "import numpy as np\n",
        "\n",
        "# 이미지를 보여주기 위한 함수\n",
        "\n",
        "def imshow(img):\n",
        "    img = img / 2 + 0.5     # unnormalize\n",
        "    npimg = img.numpy()\n",
        "    plt.imshow(np.transpose(npimg, (1, 2, 0)))\n",
        "    plt.show()\n",
        "\n",
        "\n",
        "# 학습용 이미지를 무작위로 가져오기\n",
        "dataiter = iter(trainloader)\n",
        "images, labels = next(dataiter)\n",
        "\n",
        "# 이미지 보여주기\n",
        "imshow(torchvision.utils.make_grid(images))\n",
        "# 정답(label) 출력\n",
        "print(' '.join(f'{classes[labels[j]]:5s}' for j in range(batch_size)))"
      ]
    },
    {
      "cell_type": "code",
      "execution_count": null,
      "metadata": {
        "id": "vLIphhnt5j0X"
      },
      "outputs": [],
      "source": [
        "device = torch.device(\"cuda\" if torch.cuda.is_available() else \"cpu\")"
      ]
    },
    {
      "cell_type": "code",
      "execution_count": null,
      "metadata": {
        "id": "4Yd6WTKG5lW8"
      },
      "outputs": [],
      "source": [
        "d_noise = 100\n",
        "d_hidden_1 = 256\n",
        "d_hidden_2 = 512\n",
        "image_dim = 32*32\n",
        "batch_size = 64\n",
        "\n",
        "class Generator(nn.Module):\n",
        "    def __init__(self):\n",
        "        super(Generator, self).__init__()\n",
        "        self.generator = nn.Sequential(\n",
        "            nn.ConvTranspose2d(d_noise, 256, kernel_size=8, stride=1, padding=0),\n",
        "            nn.ReLU(),\n",
        "            nn.ConvTranspose2d(256, 128, kernel_size=4, stride=2, padding=1),\n",
        "            nn.ReLU(),\n",
        "            nn.ConvTranspose2d(128, 1, kernel_size=4, stride=2, padding=1),\n",
        "            nn.Tanh()\n",
        "        )\n",
        "\n",
        "    def forward(self, x):\n",
        "        x = x.view(x.size(0), d_noise, 1, 1)  # 입력 잡음 벡터를 (batch_size, d_noise, 1, 1) 형태로 변환\n",
        "        x = self.generator(x)\n",
        "        return x\n",
        "\n",
        "    def forward(self, x):\n",
        "        x = self.generator(x)\n",
        "        return x"
      ]
    },
    {
      "cell_type": "code",
      "execution_count": null,
      "metadata": {
        "id": "Mnum3f5G5lb_"
      },
      "outputs": [],
      "source": [
        "class Discriminator(nn.Module):\n",
        "    def __init__(self):\n",
        "        super(Discriminator, self).__init__()\n",
        "\n",
        "        self.discriminator = nn.Sequential(\n",
        "            nn.Linear(32*32, d_hidden_1),\n",
        "            nn.LeakyReLU(),\n",
        "            nn.Dropout(0.1),\n",
        "            nn.Linear(d_hidden_1, d_hidden_2),\n",
        "            nn.LeakyReLU(),\n",
        "            nn.Dropout(0.1),\n",
        "            nn.Linear(d_hidden_2, 10),\n",
        "            nn.Sigmoid()\n",
        "        ).to(device)\n",
        "\n",
        "    def forward(self, x):\n",
        "        x = self.discriminator(x)\n",
        "        return x\n"
      ]
    },
    {
      "cell_type": "code",
      "execution_count": null,
      "metadata": {
        "id": "EYvn3-dT5lfT"
      },
      "outputs": [],
      "source": [
        "disc = Discriminator().to(device)\n",
        "gen = Generator().to(device)\n",
        "\n",
        "fixed_noise = torch.randn(batch_size, d_noise).view(batch_size, d_noise, 1, 1).to(device)\n",
        "\n",
        "lr = 3e-4\n",
        "num_epochs = 50\n",
        "\n",
        "opt_disc = optim.Adam(disc.parameters(), lr=lr)\n",
        "opt_gen = optim.Adam(gen.parameters(), lr=lr)\n",
        "criterion = nn.BCELoss()\n",
        "\n",
        "step = 0"
      ]
    },
    {
      "cell_type": "code",
      "execution_count": null,
      "metadata": {
        "colab": {
          "base_uri": "https://localhost:8080/"
        },
        "id": "xKIZV0vBA4lN",
        "outputId": "61b3222e-4cdf-46cf-d647-fb06250cde6d"
      },
      "outputs": [
        {
          "name": "stdout",
          "output_type": "stream",
          "text": [
            "(4, 3, 100)\n"
          ]
        }
      ],
      "source": [
        "import numpy as np\n",
        "\n",
        "# 예제 텐서 생성\n",
        "tensor = np.random.rand(4, 100)\n",
        "\n",
        "# 텐서에 새로운 차원을 추가하고 복사\n",
        "# 텐서의 shape을 (4, 1, 100)으로 만든 다음, 이를 (4, 3, 100)으로 반복\n",
        "expanded_tensor = np.expand_dims(tensor, axis=1)\n",
        "reshaped_tensor = np.tile(expanded_tensor, (1, 3, 1))\n",
        "\n",
        "print(reshaped_tensor.shape)  # 출력: (4, 3, 100)\n"
      ]
    },
    {
      "cell_type": "code",
      "execution_count": null,
      "metadata": {
        "colab": {
          "background_save": true,
          "base_uri": "https://localhost:8080/"
        },
        "id": "C9pYEjr25p2_",
        "outputId": "70ec770b-61d1-4225-c489-c1eb9bb1e19d"
      },
      "outputs": [
        {
          "name": "stdout",
          "output_type": "stream",
          "text": [
            "Epoch [0/50] Loss D: 0.5054, loss G: 0.9416\n"
          ]
        }
      ],
      "source": [
        "fake_list = []\n",
        "real_list = []\n",
        "\n",
        "for epoch in range(num_epochs):\n",
        "    for batch_idx, (real, label) in enumerate(trainloader):\n",
        "        real = real.view(-1, 1024).to(device)\n",
        "        batch_size = real.shape[0]\n",
        "\n",
        "        ### Train Discriminator: max log(D(x)) + log(1 - D(G(z)))\n",
        "        #noise = torch.randn(batch_size, d_noise).to(device)\n",
        "        embedding_label = embeddings(label).to(device)\n",
        "        embedding_label = embedding_label.unsqueeze(1)\n",
        "        embedding_label = embedding_label.repeat(1, 3, 1).view(batch_size, d_noise, 1, 1)\n",
        "\n",
        "        #print(real.shape, label.shape, noise.shape, embedding_label.shape)\n",
        "        #print(label)\n",
        "        fake = gen(embedding_label)\n",
        "        #print(disc_real.shape, real.shape, fake.shape)\n",
        "        disc_fake = disc(fake.view(-1, 1024)).view(-1)\n",
        "        disc_real = disc(real)\n",
        "\n",
        "        #print(disc_real.shape, real.shape, disc_fake.shape)\n",
        "        #lossD_real = criterion(disc_real, torch.ones_like(disc_real))\n",
        "        disc_fake = disc(fake.view(-1, 1024)).view(-1)\n",
        "        lossD = criterion(disc_fake.view(batch_size,-1), disc_real)\n",
        "        #lossD = (lossD_real + lossD_fake) / 2\n",
        "        disc.zero_grad()\n",
        "        lossD.backward(retain_graph=True)\n",
        "        opt_disc.step()\n",
        "\n",
        "        ### Train Generator: min log(1 - D(G(z))) <-> max log(D(G(z))\n",
        "        # where the second option of maximizing doesn't suffer from\n",
        "        # saturating gradients\n",
        "        output = disc(fake.view(-1, 1024)).view(-1)\n",
        "        lossG = criterion(output, torch.ones_like(output))\n",
        "        gen.zero_grad()\n",
        "        lossG.backward()\n",
        "        opt_gen.step()\n",
        "\n",
        "        if batch_idx == 0:\n",
        "            print(\n",
        "                f\"Epoch [{epoch}/{num_epochs}] Loss D: {lossD:.4f}, loss G: {lossG:.4f}\"\n",
        "            )\n",
        "\n",
        "            with torch.no_grad():\n",
        "                fake = gen(fixed_noise).reshape(-1, 1, 32, 32)\n",
        "                data = real.reshape(-1, 1, 32, 32)\n",
        "\n",
        "                fake_list.append(fake)\n",
        "                real_list.append(data)\n",
        "                step += 1"
      ]
    },
    {
      "cell_type": "code",
      "execution_count": null,
      "metadata": {
        "id": "FQUz8Fjc_UAL"
      },
      "outputs": [],
      "source": [
        "fig, axes = plt.subplots(nrows=2, ncols=10, sharex=True, sharey=True, figsize=(20, 4))\n",
        "\n",
        "for images, row in zip([fake_list[-1], real_list[-1]], axes):\n",
        "    for img, ax in zip(images, row):\n",
        "        ax.imshow(img.cpu().numpy().squeeze(), cmap='gray')\n",
        "        ax.get_xaxis().set_visible(False)\n",
        "        ax.get_yaxis().set_visible(False)\n",
        "\n",
        "plt.show()"
      ]
    }
  ],
  "metadata": {
    "colab": {
      "provenance": []
    },
    "kernelspec": {
      "display_name": "Python 3",
      "name": "python3"
    },
    "language_info": {
      "name": "python"
    }
  },
  "nbformat": 4,
  "nbformat_minor": 0
}